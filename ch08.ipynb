{
 "cells": [
  {
   "cell_type": "markdown",
   "metadata": {},
   "source": [
    "### 8.1 심층 신경망이 부딪힌 한계 - 사라지는 기울기\n",
    "### 8.2 심층 신경망 학습의 돌파구 - 연결강도 초기화\n",
    "### 8.3 활성화 함수의 다양화\n",
    "### 8.4 최적화 기법 - 경사하강법의 문제와 개선\n",
    "### 8.5 다양한 최적화 기법 소개\n",
    "### 8.6 텐서플로우 시작\n"
   ]
  },
  {
   "cell_type": "markdown",
   "metadata": {},
   "source": [
    "✔머신러닝과 딥러닝의 프레임워크 : 텐서플로우 , 데아노, 파이토치, 케라스, 사이킷런, NLTK\n",
    "\n",
    "✔미국 국립표준 연구소National Institute of Standards and Technology에서는 손으로 쓴 숫자들로 이루어진 글씨 데이터를 스캐닝하여 다양한 화상처리 시스템에서 사용하기 위하여 제공하고 있는데 이 데이터가 바로 MNISTModified National Institute of Standards and Technology 데이터베이스\n",
    "\n"
   ]
  },
  {
   "cell_type": "code",
   "execution_count": 1,
   "metadata": {},
   "outputs": [
    {
     "name": "stdout",
     "output_type": "stream",
     "text": [
      "Downloading data from https://storage.googleapis.com/tensorflow/tf-keras-datasets/mnist.npz\n",
      "11493376/11490434 [==============================] - 1s 0us/step\n",
      "11501568/11490434 [==============================] - 1s 0us/step\n",
      "x_train 데이터의 형태: (60000, 28, 28)\n",
      "x_train[0] 데이터의 형태: (28, 28)\n",
      "y_train 데이터의 형태: (60000,)\n"
     ]
    }
   ],
   "source": [
    "import tensorflow as tf\n",
    "from tensorflow import keras\n",
    "import numpy as np\n",
    "import matplotlib.pyplot as plt\n",
    "\n",
    "mnist = tf.keras.datasets.mnist # MNIST 이미지를 제공하는 케라스라는 모듈을 포함하고 있는데 이 이미지 셋을 가져온다.\n",
    "\n",
    "(x_train, y_train), (x_test, y_test) = mnist.load_data()\n",
    "\n",
    "print('x_train 데이터의 형태:', x_train.shape)\n",
    "print('x_train[0] 데이터의 형태:', x_train[0].shape)\n",
    "print('y_train 데이터의 형태:',y_train.shape)"
   ]
  },
  {
   "cell_type": "code",
   "execution_count": 2,
   "metadata": {},
   "outputs": [
    {
     "name": "stdout",
     "output_type": "stream",
     "text": [
      "   0   0   0   0   0   0   0   0   0   0   0   0   0   0   0   0   0   0   0   0   0   0   0   0   0   0   0   0\n",
      "   0   0   0   0   0   0   0   0   0   0   0   0   0   0   0   0   0   0   0   0   0   0   0   0   0   0   0   0\n",
      "   0   0   0   0   0   0   0   0   0   0   0   0   0   0   0   0   0   0   0   0   0   0   0   0   0   0   0   0\n",
      "   0   0   0   0   0   0   0   0   0   0   0   0   0   0   0   0   0   0   0   0   0   0   0   0   0   0   0   0\n",
      "   0   0   0   0   0   0   0   0   0   0   0   0   0   0   0   0   0   0   0   0   0   0   0   0   0   0   0   0\n",
      "   0   0   0   0   0   0   0   0   0   0   0   0   3  18  18  18 126 136 175  26 166 255 247 127   0   0   0   0\n",
      "   0   0   0   0   0   0   0   0  30  36  94 154 170 253 253 253 253 253 225 172 253 242 195  64   0   0   0   0\n",
      "   0   0   0   0   0   0   0  49 238 253 253 253 253 253 253 253 253 251  93  82  82  56  39   0   0   0   0   0\n",
      "   0   0   0   0   0   0   0  18 219 253 253 253 253 253 198 182 247 241   0   0   0   0   0   0   0   0   0   0\n",
      "   0   0   0   0   0   0   0   0  80 156 107 253 253 205  11   0  43 154   0   0   0   0   0   0   0   0   0   0\n",
      "   0   0   0   0   0   0   0   0   0  14   1 154 253  90   0   0   0   0   0   0   0   0   0   0   0   0   0   0\n",
      "   0   0   0   0   0   0   0   0   0   0   0 139 253 190   2   0   0   0   0   0   0   0   0   0   0   0   0   0\n",
      "   0   0   0   0   0   0   0   0   0   0   0  11 190 253  70   0   0   0   0   0   0   0   0   0   0   0   0   0\n",
      "   0   0   0   0   0   0   0   0   0   0   0   0  35 241 225 160 108   1   0   0   0   0   0   0   0   0   0   0\n",
      "   0   0   0   0   0   0   0   0   0   0   0   0   0  81 240 253 253 119  25   0   0   0   0   0   0   0   0   0\n",
      "   0   0   0   0   0   0   0   0   0   0   0   0   0   0  45 186 253 253 150  27   0   0   0   0   0   0   0   0\n",
      "   0   0   0   0   0   0   0   0   0   0   0   0   0   0   0  16  93 252 253 187   0   0   0   0   0   0   0   0\n",
      "   0   0   0   0   0   0   0   0   0   0   0   0   0   0   0   0   0 249 253 249  64   0   0   0   0   0   0   0\n",
      "   0   0   0   0   0   0   0   0   0   0   0   0   0   0  46 130 183 253 253 207   2   0   0   0   0   0   0   0\n",
      "   0   0   0   0   0   0   0   0   0   0   0   0  39 148 229 253 253 253 250 182   0   0   0   0   0   0   0   0\n",
      "   0   0   0   0   0   0   0   0   0   0  24 114 221 253 253 253 253 201  78   0   0   0   0   0   0   0   0   0\n",
      "   0   0   0   0   0   0   0   0  23  66 213 253 253 253 253 198  81   2   0   0   0   0   0   0   0   0   0   0\n",
      "   0   0   0   0   0   0  18 171 219 253 253 253 253 195  80   9   0   0   0   0   0   0   0   0   0   0   0   0\n",
      "   0   0   0   0  55 172 226 253 253 253 253 244 133  11   0   0   0   0   0   0   0   0   0   0   0   0   0   0\n",
      "   0   0   0   0 136 253 253 253 212 135 132  16   0   0   0   0   0   0   0   0   0   0   0   0   0   0   0   0\n",
      "   0   0   0   0   0   0   0   0   0   0   0   0   0   0   0   0   0   0   0   0   0   0   0   0   0   0   0   0\n",
      "   0   0   0   0   0   0   0   0   0   0   0   0   0   0   0   0   0   0   0   0   0   0   0   0   0   0   0   0\n",
      "   0   0   0   0   0   0   0   0   0   0   0   0   0   0   0   0   0   0   0   0   0   0   0   0   0   0   0   0\n"
     ]
    }
   ],
   "source": [
    "num = x_train[0]\n",
    "for i in range(28):\n",
    "    for j in range(28):\n",
    "        print('{:4d}'.format(num[i][j]), end='')\n",
    "    print()"
   ]
  },
  {
   "cell_type": "markdown",
   "metadata": {},
   "source": [
    "x_train의 첫번째 데이터의 형태가 (28,28)크기의 데이터 \n",
    "최소 0 최댓값 255"
   ]
  },
  {
   "cell_type": "code",
   "execution_count": 3,
   "metadata": {},
   "outputs": [
    {
     "data": {
      "text/plain": [
       "<matplotlib.image.AxesImage at 0x19514595280>"
      ]
     },
     "execution_count": 3,
     "metadata": {},
     "output_type": "execute_result"
    },
    {
     "data": {
      "image/png": "[encoded data removed]",
      "text/plain": [
       "<Figure size 432x288 with 1 Axes>"
      ]
     },
     "metadata": {
      "needs_background": "light"
     },
     "output_type": "display_data"
    }
   ],
   "source": [
    "plt.imshow(num, cmap='Greys', interpolation='nearest')\n",
    "#회색조 이미지로 만들어 이 배열의 의미 파악\n",
    "#이 데이터의 형태가 기울어진 5와 비슷\n",
    "#이제 다음과 같은 방법으로 부드럽게 보간된 회색조 이미지로 만들어 이 배열의 의미를 이해하자\n"
   ]
  },
  {
   "cell_type": "code",
   "execution_count": 4,
   "metadata": {},
   "outputs": [
    {
     "name": "stdout",
     "output_type": "stream",
     "text": [
      "y_train[0] = 5\n"
     ]
    }
   ],
   "source": [
    "print('y_train[0] =', y_train[0])\n",
    "#이 배열 데이터는 숫자 5의 손글씨와 비슷한 이미지 임을 알 수 있는데, \n",
    "# 이 이미지의 의미는 다음과 같이 y_train[0] 배열에 5라고 레이블링 되어 있다."
   ]
  },
  {
   "cell_type": "markdown",
   "metadata": {},
   "source": [
    "y_train[0] 배열에 5라고 레이블링"
   ]
  },
  {
   "cell_type": "markdown",
   "metadata": {},
   "source": [
    "### 8.8 keras로 순차 심층신경망 구축하기"
   ]
  },
  {
   "cell_type": "code",
   "execution_count": 6,
   "metadata": {},
   "outputs": [
    {
     "name": "stdout",
     "output_type": "stream",
     "text": [
      "Epoch 1/4\n",
      "1875/1875 [==============================] - ETA: 0s - loss: 0.2288 - accuracy: 0.9335 ETA: 0s - loss: - 2s 918us/step - loss: 0.2258 - accuracy: 0.9344\n",
      "Epoch 2/4\n",
      "1875/1875 [==============================] - 2s 896us/step - loss: 0.0924 - accuracy: 0.97240s - loss: 0.0935 - accuracy: \n",
      "Epoch 3/4\n",
      "1875/1875 [==============================] - 2s 901us/step - loss: 0.0605 - accuracy: 0.9817\n",
      "Epoch 4/4\n",
      "1875/1875 [==============================] - 2s 880us/step - loss: 0.0429 - accuracy: 0.98630s - loss: 0.0417 - accu\n"
     ]
    },
    {
     "data": {
      "text/plain": [
       "<keras.callbacks.History at 0x19514039d30>"
      ]
     },
     "execution_count": 6,
     "metadata": {},
     "output_type": "execute_result"
    }
   ],
   "source": [
    "import tensorflow as tf\n",
    "from tensorflow import keras\n",
    "import numpy as np\n",
    "import matplotlib.pyplot as plt\n",
    "\n",
    "mnist = tf.keras.datasets.mnist\n",
    "\n",
    "(x_train, y_train), (x_test, y_test) = mnist.load_data()\n",
    "\n",
    "x_train, x_test = x_train / 255, x_test / 255  \n",
    "# 입력값 정규화 : 원래 입력값의 범위 0~255를 0에서 1사이의 값으로 조정하는 정규화 단계(그래서 255로 나누는 것)\n",
    "\n",
    "model = keras.models.Sequential( [#Sequential모델을 사용\n",
    "    keras.layers.Flatten(input_shape = (28, 28)),\n",
    "    keras.layers.Dense(256, activation = 'relu'), #은닉층 활성화 하는 함수 지정(RELU)\n",
    "    keras.layers.Dense(10, activation = 'softmax'),#출력값을 확률값으로 변환하는 함수 지정(softmax)\n",
    "])\n",
    "\n",
    "# 학습을 위한 최적화 함수, 손실 함수등을 가진 모델을 컴파일\n",
    "model.compile(optimizer='adam', loss='sparse_categorical_crossentropy', metrics=['accuracy'])\n",
    "model.fit(x_train, y_train, epochs = 4)\n",
    "\n",
    "#노드와 구조 손쉽게 생성"
   ]
  },
  {
   "cell_type": "markdown",
   "metadata": {},
   "source": [
    "👍이제 MNIST 데이터를 사용하여 우리가 할 일\n",
    "\n",
    "- 6만 개의 이미지로 이루어진 x_train 데이터를 심층 신경망 모델에 넣어서 \n",
    "- y_train 데이터의 숫자로 인식하도록 학습을 시키는 일\n",
    "- 이 때 노드의 활성화 함수, 학습을 위한 최적화 함수, 손실 함수, 측정방법을 정의하는 일\n",
    "- 1만 개의 이미지로 이루어진 x_test 데이터를 학습을 마친 모델의 입력으로 넣어서 이 모델의 정확도를 알아보는 일\n"
   ]
  },
  {
   "cell_type": "markdown",
   "metadata": {},
   "source": [
    "### 8.9 인공신경망을 최적화 시키자"
   ]
  },
  {
   "cell_type": "code",
   "execution_count": 9,
   "metadata": {},
   "outputs": [
    {
     "name": "stdout",
     "output_type": "stream",
     "text": [
      "Model: \"sequential\"\n",
      "_________________________________________________________________\n",
      " Layer (type)                Output Shape              Param #   \n",
      "=================================================================\n",
      " flatten (Flatten)           (None, 784)               0         \n",
      "                                                                 \n",
      " dense (Dense)               (None, 256)               200960    \n",
      "                                                                 \n",
      " dense_1 (Dense)             (None, 10)                2570      \n",
      "                                                                 \n",
      "=================================================================\n",
      "Total params: 203,530\n",
      "Trainable params: 203,530\n",
      "Non-trainable params: 0\n",
      "_________________________________________________________________\n"
     ]
    }
   ],
   "source": [
    "model.summary()\n",
    "#만든 신경망 모델이 어떤 형태를 가지고 있으며, 몇 개의 파라미터를 훈련시켜서 만든 모델인가를 model.summary() 함수를 통해서 확인\n"
   ]
  },
  {
   "cell_type": "code",
   "execution_count": 10,
   "metadata": {},
   "outputs": [
    {
     "name": "stdout",
     "output_type": "stream",
     "text": [
      "신경망 모델의 학습 결과 :\n",
      "313/313 [==============================] - 0s 720us/step - loss: 0.0729 - accuracy: 0.9781\n",
      "test 데이터의 손실값 0.07285822927951813 test 데이터의 정확도 0.9781000018119812\n"
     ]
    }
   ],
   "source": [
    "print('신경망 모델의 학습 결과 :')\n",
    "eval_loss, eval_acc = model.evaluate(x_test, y_test)\n",
    "print('test 데이터의 손실값', eval_loss, 'test 데이터의 정확도', eval_acc)\n",
    "#이제까지 학습에 사용하지 않은 1만 개의 숫자 이미지가 있는 x_test를 이 모델에 넣어서 y_test와 비교\n"
   ]
  },
  {
   "cell_type": "markdown",
   "metadata": {},
   "source": [
    "### 8.10 소프트맥스 함수와 원-핫 인코딩"
   ]
  },
  {
   "cell_type": "code",
   "execution_count": 11,
   "metadata": {},
   "outputs": [
    {
     "name": "stdout",
     "output_type": "stream",
     "text": [
      "신경망의 예측값 : [0.5 4.1 2.5 5.6 1.2]\n",
      "소프트맥스 함수의 출력 : [0.00473882 0.17343248 0.03501541 0.77727047 0.00954281]\n"
     ]
    }
   ],
   "source": [
    "import numpy as np\n",
    "\n",
    "def softmax(a):    \n",
    "    exp_of_a = np.exp(a)       # 각각의 지수 함수\n",
    "    sum_exp = np.sum(exp_of_a) # 지수 함수값의 합\n",
    "    y = exp_of_a / sum_exp\n",
    "    return y\n",
    "\n",
    "a = np.array([0.5, 4.1, 2.5, 5.6, 1.2])\n",
    "print('신경망의 예측값 :', a)\n",
    "print('소프트맥스 함수의 출력 :', softmax(a))"
   ]
  },
  {
   "cell_type": "code",
   "execution_count": null,
   "metadata": {},
   "outputs": [],
   "source": [
    "\n",
    "#0       1    2    3    4 \n",
    "#[0.5  4.1  2.5  5.6  1.2] #최종 노트 출력은 가중치 값\n",
    "# -------------------\n",
    "# 소프트 맥스 함수 \n",
    "# -------------------\n",
    "# 0.0047 0.1734 0.0350 0.7772 0.0095  #숫자 0일 확률 , 숫자 1일 확률 ,숫자 2일 확률 ,숫자 3일 확률 , 숫자 4일 확률 \n",
    "# 가중치 값을 가진 벡터를 0에서 1사이의 클래스별 확률값으로 변환하기 위해서 사용하는 함수가\n",
    "#  바로 소프트맥스softmax 함수\n",
    "\n"
   ]
  },
  {
   "cell_type": "code",
   "execution_count": 12,
   "metadata": {},
   "outputs": [
    {
     "name": "stdout",
     "output_type": "stream",
     "text": [
      "소프트맥스 함수의 최댓값 : 0.7772704668966948\n"
     ]
    }
   ],
   "source": [
    "print('소프트맥스 함수의 최댓값 :', np.max(softmax(a)))\n",
    "\n",
    "#소프트맥스 함수는 최대값을 더욱 활성화하고 작은 값을 억제하는 효과"
   ]
  },
  {
   "cell_type": "code",
   "execution_count": 16,
   "metadata": {},
   "outputs": [
    {
     "name": "stdout",
     "output_type": "stream",
     "text": [
      "신경망의 예측값 : [ 1.   8.2  5.  11.2  2.4]\n",
      "소프트맥스 함수의 출력 : [3.53328547e-05 4.73259126e-02 1.92910850e-03 9.50566364e-01\n",
      " 1.43281791e-04]\n",
      "소프트맥스 함수의 최댓값 : 0.9505663642857384\n"
     ]
    }
   ],
   "source": [
    "# 소프트맥스 함수의 입력값을 두 배로 증가시켜보자\n",
    "a = np.array([0.5, 4.1, 2.5, 5.6, 1.2]) * 2\n",
    "print('신경망의 예측값 :', a)\n",
    "print('소프트맥스 함수의 출력 :', softmax(a))\n",
    "print('소프트맥스 함수의 최댓값 :', np.max(softmax(a)))"
   ]
  },
  {
   "cell_type": "markdown",
   "metadata": {},
   "source": [
    "### 8.11 원-핫 인코딩과 평균제곱 오차\n",
    "✔소프트맥스 함수의 출력값과 정답과의 차이를 구하는 방법\n",
    "\n",
     "✔원-핫 인코딩 : 단어 집합의 크기를 벡터의 차원으로 하고, 표현하고 싶은 단어의 인덱스에 1의 값을 부여하고,
    다른 인덱스에는 0을 부여하는 단어의 벡터 표현 방식입니다. 이렇게 표현된 벡터를 원-핫 벡터(One-Hot vector)라고 합니다.\n",
    "\n",
    "✔이를 위하여 원-핫 인코딩one-hot encoding 기법의 필요성에 대하여 알아보자\n"
   ]
  },
  {
   "cell_type": "markdown",
   "metadata": {},
   "source": [
    "👍원-핫 인코딩은 다음의 두 단계 과정을 통해서 간단하게 구현\n",
    "\n",
    "- 각 레이블에 고유의 인덱스를 부여\n",
    "\n",
    "- 표현하고자 하는 레이블의 인덱스 위치에 1을 부여하고, 나머지 인덱스의 값으로 0을 부여\n"
   ]
  },
  {
   "cell_type": "code",
   "execution_count": 18,
   "metadata": {},
   "outputs": [
    {
     "name": "stdout",
     "output_type": "stream",
     "text": [
      "인코딩할 원본 데이터 [0 1 2 3 4]\n",
      "원-핫 인코딩된 데이터 :\n",
      "[[1. 0. 0. 0. 0.]\n",
      " [0. 1. 0. 0. 0.]\n",
      " [0. 0. 1. 0. 0.]\n",
      " [0. 0. 0. 1. 0.]\n",
      " [0. 0. 0. 0. 1.]]\n"
     ]
    }
   ],
   "source": [
    "from tensorflow.keras.utils import to_categorical\n",
    "\n",
    "data = np.array([0, 1, 2, 3, 4])  # 수치 데이터 0에서 4까지의 값\n",
    "print('인코딩할 원본 데이터',data)\n",
    "encoded = to_categorical(data)    # 원-핫 인코딩된 범주형 데이터 생성\n",
    "print('원-핫 인코딩된 데이터 :')\n",
    "print(encoded)\n",
    "\n",
    "# from keras.utils import to_categorical 대신\n",
    "# from tensorflow.keras.utils import to_categorical을 사용하면 된다.\n"
   ]
  },
  {
   "cell_type": "code",
   "execution_count": 19,
   "metadata": {},
   "outputs": [
    {
     "name": "stdout",
     "output_type": "stream",
     "text": [
      "y_hat과 target과의 오차 : 0.016201599999999997\n"
     ]
    }
   ],
   "source": [
    "import numpy as np\n",
    "\n",
    "# 정답 3이 인코딩된 target과 신경망의 예측값 y_hat이 있다고 가정하자\n",
    "target = np.array([0, 0, 0, 1, 0]) #레이블 3은 원-핫 인코딩되어 [0, 0, 0, 1, 0]의 형태로 변환 \n",
    "y_hat = np.array([0.005, 0.173, 0.035, 0.777, 0.01])\n",
    "\n",
    "def mse(y, t):   # 평균제곱오차\n",
    "    return ((y-t)**2).mean()\n",
    "\n",
    "print('y_hat과 target과의 오차 :', mse(y_hat, target))"
   ]
  },
  {
   "cell_type": "code",
   "execution_count": 20,
   "metadata": {},
   "outputs": [
    {
     "name": "stdout",
     "output_type": "stream",
     "text": [
      "other_y_hat과 target과의 오차 : 0.25564\n"
     ]
    }
   ],
   "source": [
    "# 정답에서 많이 벗어난 other_y_hat 추정치\n",
    "other_y_hat = np.array([0.2, 0.3, 0.4, 0.01, 0.09])\n",
    "# other_y_hat 추정치와 정답과의 오차를 알아보자 \n",
    "print('other_y_hat과 target과의 오차 :', mse( other_y_hat, target ))"
   ]
  },
  {
   "cell_type": "markdown",
   "metadata": {},
   "source": [
    "### 8.12 평균제곱 오차와 교차 엔트로피 오차\n",
    "\n",
    "손실함수(신경망의 데이터 분석결과(성능)의 나쁨 정도)\n",
    "- cee : 교차 엔트로피는 평균제곱오차와는 달리 오직 실제 정답과의 오차만을 파악하는 손실함수\n",
    "- mse :  y는 신경망의 출력층 결과 리스트이고 t는 실제 데이터의 정답을 의미"
   ]
  },
  {
   "cell_type": "code",
   "execution_count": 21,
   "metadata": {},
   "outputs": [
    {
     "name": "stdout",
     "output_type": "stream",
     "text": [
      "y_hat1과의 cee : 0.60\n",
      "y_hat2과의 cee : 4.61\n",
      "두 값의 비 : 7.70\n",
      "y_hat1과의 mse : 0.12\n",
      "y_hat2과의 mse : 0.60\n",
      "두 값의 비 : 4.93\n"
     ]
    }
   ],
   "source": [
    "import numpy as np\n",
    "\n",
    "def mse(y, t):   # 평균제곱오차\n",
    "    return ((y-t)**2).mean()\n",
    "    \n",
    "# 교차 엔트로피 함수를 에러 함수로 사용해 보도록 하자\n",
    "def cee(y, t):\n",
    "   delta = 1e-7\n",
    "   return -np.sum(t * np.log(y + delta))\n",
    "\n",
    "t = np.array([0, 0, 1])\n",
    "y_hat1 = np.array([0.4, 0.05, 0.55])\n",
    "y_hat2 = np.array([0.9, 0.09, 0.01])\n",
    "\n",
    "# y_hat 추정치와 정답과의 오차를 알아보자\n",
    "print('y_hat1과의 cee : {:.2f}'.format(cee(y_hat1, t)))\n",
    "print('y_hat2과의 cee : {:.2f}'.format(cee(y_hat2, t)))\n",
    "print('두 값의 비 : {:.2f}'.format(cee(y_hat2, t)/cee(y_hat1, t)))\n",
    "\n",
    "# y_hat 추정치와 정답과의 오차를 알아보자\n",
    "print('y_hat1과의 mse : {:.2f}'.format(mse(y_hat1, t)))\n",
    "print('y_hat2과의 mse : {:.2f}'.format(mse(y_hat2, t)))\n",
    "print('두 값의 비 : {:.2f}'.format(mse(y_hat2, t)/mse(y_hat1, t)))"
   ]
  },
  {
   "cell_type": "markdown",
   "metadata": {},
   "source": [
    "### 8.13 정규화와 표준화, 배치 정규화"
   ]
  },
  {
   "cell_type": "code",
   "execution_count": 22,
   "metadata": {},
   "outputs": [
    {
     "data": {
      "text/plain": [
       "Text(0, 0.5, 'num of rooms')"
      ]
     },
     "execution_count": 22,
     "metadata": {},
     "output_type": "execute_result"
    },
    {
     "data": {
      "image/png": "[encoded data removed]",
      "text/plain": [
       "<Figure size 432x288 with 1 Axes>"
      ]
     },
     "metadata": {
      "needs_background": "light"
     },
     "output_type": "display_data"
    }
   ],
   "source": [
    "import numpy as np\n",
    "import matplotlib.pyplot as plt\n",
    "from sklearn.preprocessing import MinMaxScaler\n",
    "\n",
    "yr = np.array([15, 30, 23, 5, 9, 43, 33, 29, 3, 56]) \n",
    "# 데이터를 살펴보면 주택의 건축연도는 3년에서 56년으로 범위가 크다.\n",
    "n_rooms = np.array([2, 4, 3, 4, 4, 3, 3, 1, 1, 2])\n",
    "# 방의 수 \n",
    "min_max_scaler = MinMaxScaler()\n",
    "yr_norm = min_max_scaler.fit_transform(yr[:, np.newaxis])\n",
    "n_rooms_norm = min_max_scaler.fit_transform(n_rooms[:, np.newaxis])\n",
    "\n",
    "#위의 경우를 그래프로 그려보면 아래와 같이 나타날 것\n",
    "#이 경우 기계 학습이 예측을 할 때 방의 개수보다는 더 큰 스케일을가지는 건축연도에 의하여 예측값이 좌지우지될 가능성이 큼\n",
    "# sklearn의preprocessing 하위 모듈에 있는 min_max_scaler()를 사용하여 방의 수와 연도를\n",
    "# 0에서 1사이의 값으로 스케일링하고 시각화 시킨 것\n",
    "\n",
    "plt.scatter(yr_norm, n_rooms_norm, c='red')\n",
    "plt.xlim(-0.1, 1.1)\n",
    "plt.ylim(-0.1, 1.1)\n",
    "plt.xlabel('year')              \n",
    "plt.ylabel('num of rooms')\n"
   ]
  },
  {
   "cell_type": "markdown",
   "metadata": {},
   "source": [
    "### 8.14 확률적 경사 하강법과 배치 학습"
   ]
  },
  {
   "cell_type": "markdown",
   "metadata": {},
   "source": [
    "### 8.15 더 깊은 층으로 정확도를 높여보자"
   ]
  },
  {
   "cell_type": "code",
   "execution_count": 5,
   "metadata": {},
   "outputs": [
    {
     "name": "stdout",
     "output_type": "stream",
     "text": [
      "Epoch 1/10\n",
      "1875/1875 [==============================] - 2s 928us/step - loss: 0.2757 - accuracy: 0.9180 - val_loss: 0.1518 - val_accuracy: 0.9527\n",
      "Epoch 2/10\n",
      "1875/1875 [==============================] - 1s 784us/step - loss: 0.1236 - accuracy: 0.9615 - val_loss: 0.1203 - val_accuracy: 0.9627\n",
      "Epoch 3/10\n",
      "1875/1875 [==============================] - 2s 802us/step - loss: 0.0909 - accuracy: 0.9720 - val_loss: 0.1063 - val_accuracy: 0.9661\n",
      "Epoch 4/10\n",
      "1875/1875 [==============================] - 1s 786us/step - loss: 0.0723 - accuracy: 0.9769 - val_loss: 0.1116 - val_accuracy: 0.9668\n",
      "Epoch 5/10\n",
      "1875/1875 [==============================] - 2s 820us/step - loss: 0.0591 - accuracy: 0.9814 - val_loss: 0.0950 - val_accuracy: 0.9710\n",
      "Epoch 6/10\n",
      "1875/1875 [==============================] - 2s 832us/step - loss: 0.0502 - accuracy: 0.9840 - val_loss: 0.0964 - val_accuracy: 0.9746\n",
      "Epoch 7/10\n",
      "1875/1875 [==============================] - 2s 848us/step - loss: 0.0447 - accuracy: 0.9860 - val_loss: 0.1004 - val_accuracy: 0.9740\n",
      "Epoch 8/10\n",
      "1875/1875 [==============================] - 1s 776us/step - loss: 0.0401 - accuracy: 0.9869 - val_loss: 0.0903 - val_accuracy: 0.9739\n",
      "Epoch 9/10\n",
      "1875/1875 [==============================] - 2s 811us/step - loss: 0.0333 - accuracy: 0.9894 - val_loss: 0.1131 - val_accuracy: 0.9722\n",
      "Epoch 10/10\n",
      "1875/1875 [==============================] - 1s 793us/step - loss: 0.0323 - accuracy: 0.9893 - val_loss: 0.0965 - val_accuracy: 0.9747\n"
     ]
    }
   ],
   "source": [
    "import tensorflow as tf\n",
    "from tensorflow import keras\n",
    "import numpy as np\n",
    "import matplotlib.pyplot as plt\n",
    "\n",
    "mnist = tf.keras.datasets.mnist\n",
    "(x_train, y_train), (x_test, y_test) = mnist.load_data()\n",
    "\n",
    "x_train, x_test = x_train / 255, x_test / 255  # 입력값 정규화\n",
    "\n",
    "# 층을 추가한 모델 만들기\n",
    "#은닉층이 많으므로 각 계층의 노드를 64개로 민들어보자\n",
    "model = keras.models.Sequential( [\n",
    "    keras.layers.Flatten(input_shape = (28, 28)),\n",
    "    keras.layers.Dense(64, activation = 'relu'),\n",
    "    keras.layers.Dense(64, activation = 'relu'),\n",
    "    keras.layers.Dense(64, activation = 'relu'),\n",
    "    keras.layers.Dense(10, activation = 'softmax'),\n",
    "])\n",
    "\n",
    "#신경망에서 사용되는 역전파 알고리즘(backpropagation algorithm)은 파라미터를 사용하여 입력부터 출력까지의 각 계층의 weight를 계산하는 과정을 거치는 순방향 패스(forward pass), forward pass를 반대로 거슬러 올라가며 다시 한 번 계산 과정을 거처 기존의 weight를 수정하는 역방향 패스(backward pass)로 나뉩니다.\n",
    "#  이 전체 데이터 셋에 대해 해당 과정(forward pass + backward pass)이 완료되면 한 번의 epoch가 진행됐다고 볼 수 있습니다.\n",
    "model.compile(optimizer='adam', loss='sparse_categorical_crossentropy', metrics=['accuracy'])\n",
    "\n",
    "history = model.fit(x_train, y_train, epochs = 10, validation_data = (x_test, y_test))"
   ]
  },
  {
   "cell_type": "markdown",
   "metadata": {},
   "source": [
    "👍이전의 모델에 비해 정확도는 99%에 이르는 높은 수준으로 개선됨\n",
    "- 교차 검증의 결과를 살펴보면 검증용 데이터에 대해서는 97%에 머무르는 것을 확인\n",
    "- 층을 더 많이 쌓으면 학습 데이터와 검증 데이터 모두에 대해 월등히 높은 성능을 얻게 되지 않을까? 층을 더욱 많이 쌓아 보자\n"
   ]
  },
  {
   "cell_type": "code",
   "execution_count": 6,
   "metadata": {},
   "outputs": [
    {
     "name": "stdout",
     "output_type": "stream",
     "text": [
      "신경망 모델의 학습 결과 :\n",
      "313/313 [==============================] - 0s 693us/step - loss: 0.0965 - accuracy: 0.9747\n",
      "test 데이터의 손실값 0.09649708122015 test 데이터의 정확도 0.9746999740600586\n"
     ]
    }
   ],
   "source": [
    "print('신경망 모델의 학습 결과 :')\n",
    "eval_loss, eval_acc = model.evaluate(x_test, y_test)\n",
    "print('test 데이터의 손실값', eval_loss, 'test 데이터의 정확도', eval_acc)"
   ]
  },
  {
   "cell_type": "code",
   "execution_count": 7,
   "metadata": {},
   "outputs": [
    {
     "data": {
      "text/plain": [
       "<AxesSubplot:>"
      ]
     },
     "execution_count": 7,
     "metadata": {},
     "output_type": "execute_result"
    },
    {
     "data": {
      "image/png": "[encoded data removed]",
      "text/plain": [
       "<Figure size 720x432 with 1 Axes>"
      ]
     },
     "metadata": {
      "needs_background": "light"
     },
     "output_type": "display_data"
    }
   ],
   "source": [
    "import pandas as pd \n",
    "pd.DataFrame(history.history).plot(figsize = (10, 6))\n",
    "#figsize = (10, 6) 그래프의 가로 길이와 세로 길이(inch)"
   ]
  },
  {
   "cell_type": "code",
   "execution_count": 10,
   "metadata": {},
   "outputs": [
    {
     "name": "stdout",
     "output_type": "stream",
     "text": [
      "Epoch 1/10\n",
      "1875/1875 [==============================] - 2s 1ms/step - loss: 0.3004 - accuracy: 0.9083 - val_loss: 0.1982 - val_accuracy: 0.9387\n",
      "Epoch 2/10\n",
      "1875/1875 [==============================] - 2s 1ms/step - loss: 0.1395 - accuracy: 0.9578 - val_loss: 0.1246 - val_accuracy: 0.9631\n",
      "Epoch 3/10\n",
      "1875/1875 [==============================] - 2s 1ms/step - loss: 0.1083 - accuracy: 0.9675 - val_loss: 0.1220 - val_accuracy: 0.9660\n",
      "Epoch 4/10\n",
      "1875/1875 [==============================] - 2s 1ms/step - loss: 0.0889 - accuracy: 0.9729 - val_loss: 0.1075 - val_accuracy: 0.9698\n",
      "Epoch 5/10\n",
      "1875/1875 [==============================] - 2s 1ms/step - loss: 0.0746 - accuracy: 0.9774 - val_loss: 0.1149 - val_accuracy: 0.9681\n",
      "Epoch 6/10\n",
      "1875/1875 [==============================] - 2s 1ms/step - loss: 0.0676 - accuracy: 0.9797 - val_loss: 0.1002 - val_accuracy: 0.9700\n",
      "Epoch 7/10\n",
      "1875/1875 [==============================] - 2s 1ms/step - loss: 0.0577 - accuracy: 0.9828 - val_loss: 0.1092 - val_accuracy: 0.9699\n",
      "Epoch 8/10\n",
      "1875/1875 [==============================] - 2s 1ms/step - loss: 0.0542 - accuracy: 0.9836 - val_loss: 0.1107 - val_accuracy: 0.9713\n",
      "Epoch 9/10\n",
      "1875/1875 [==============================] - 2s 1ms/step - loss: 0.0472 - accuracy: 0.9861 - val_loss: 0.1088 - val_accuracy: 0.9717\n",
      "Epoch 10/10\n",
      "1875/1875 [==============================] - 2s 988us/step - loss: 0.0452 - accuracy: 0.9863 - val_loss: 0.0958 - val_accuracy: 0.9752\n"
     ]
    }
   ],
   "source": [
    "# 더 많은 층을 가진 신경망 모델 만들기\n",
    "model = keras.models.Sequential( [\n",
    "    keras.layers.Flatten(input_shape = (28, 28)),\n",
    "    keras.layers.Dense(64, activation = 'relu'),\n",
    "    keras.layers.Dense(64, activation = 'relu'),\n",
    "    keras.layers.Dense(64, activation = 'relu'),\n",
    "    keras.layers.Dense(64, activation = 'relu'),\n",
    "    keras.layers.Dense(64, activation = 'relu'),\n",
    "    keras.layers.Dense(64, activation = 'relu'),\n",
    "    keras.layers.Dense(10, activation = 'softmax'),\n",
    "])\n",
    "model.compile(optimizer='adam', loss='sparse_categorical_crossentropy', metrics=['accuracy'])\n",
    "\n",
    "history = model.fit(x_train, y_train, epochs = 10, validation_data = (x_test, y_test))"
   ]
  },
  {
   "cell_type": "code",
   "execution_count": 11,
   "metadata": {},
   "outputs": [
    {
     "name": "stdout",
     "output_type": "stream",
     "text": [
      "신경망 모델의 학습 결과 :\n",
      "313/313 [==============================] - 0s 706us/step - loss: 0.0958 - accuracy: 0.9752\n",
      "test 데이터의 손실값 0.09579373896121979 test 데이터의 정확도 0.9751999974250793\n"
     ]
    }
   ],
   "source": [
    "print('신경망 모델의 학습 결과 :')\n",
    "eval_loss, eval_acc = model.evaluate(x_test, y_test)\n",
    "print('test 데이터의 손실값', eval_loss, 'test 데이터의 정확도', eval_acc)"
   ]
  },
  {
   "cell_type": "markdown",
   "metadata": {},
   "source": [
    "- 층의 갯수를 늘렸더니 \n",
    "\n",
    "### test데이터 손실값: 0.096 -> 0.095 (감소)\n",
    "\n",
    "### test데이터 정확도: 0.974 -> 0.975 (증가)\n",
    "\n",
    "층을 더 많이 쌓으면 학습 데이터와 검증 데이터 모두에 대해 월등히 높은 성능을 얻게 된다."
   ]
  },
  {
   "cell_type": "code",
   "execution_count": 12,
   "metadata": {},
   "outputs": [
    {
     "data": {
      "text/plain": [
       "<AxesSubplot:>"
      ]
     },
     "execution_count": 12,
     "metadata": {},
     "output_type": "execute_result"
    },
    {
     "data": {
      "image/png": "[encoded data removed]",
      "text/plain": [
       "<Figure size 720x432 with 1 Axes>"
      ]
     },
     "metadata": {
      "needs_background": "light"
     },
     "output_type": "display_data"
    }
   ],
   "source": [
    "import pandas as pd\n",
    "pd.DataFrame(history.history).plot(figsize = (10, 6))"
   ]
  },
  {
   "cell_type": "markdown",
   "metadata": {},
   "source": [
    "### 8.16 학습데이터에만 최적화된 신경망 개선하기 : 드롭아웃"
   ]
  },
  {
   "cell_type": "markdown",
   "metadata": {},
   "source": [
    " 👍오버피팅은 너무 세밀하게 학습 데이터 하나하나를 다 설명하려고 하다보니 정작 중요한 패턴을 설명할 수 없게 되는 현상을 말한다\n",
    "\n",
    " 이를 개선하고자 드롭아웃의 개념을 사용하기로 하였다."
   ]
  },
  {
   "cell_type": "code",
   "execution_count": 13,
   "metadata": {},
   "outputs": [
    {
     "name": "stdout",
     "output_type": "stream",
     "text": [
      "[[ 1.  2.  3.  4.  5.]\n",
      " [ 6.  7.  8.  9. 10.]]\n"
     ]
    }
   ],
   "source": [
    "data = np.arange(1, 11).reshape(2, 5).astype(np.float32)\n",
    "print(data)"
   ]
  },
  {
   "cell_type": "code",
   "execution_count": 14,
   "metadata": {},
   "outputs": [
    {
     "name": "stdout",
     "output_type": "stream",
     "text": [
      "tf.Tensor(\n",
      "[[ 0.         2.857143   4.285714   5.714286   7.1428576]\n",
      " [ 8.571428   0.        11.428572  12.857143   0.       ]], shape=(2, 5), dtype=float32)\n"
     ]
    }
   ],
   "source": [
    "layer = tf.keras.layers.Dropout(.3, input_shape = (2, ))\n",
    "outputs = layer(data, training=True)\n",
    "print(outputs)"
   ]
  },
  {
   "cell_type": "markdown",
   "metadata": {},
   "source": [
    "✔ 케라스 API에서는 손쉽게 드롭아웃 레이어를 생성하는 방법을 제공\n"
   ]
  },
  {
   "cell_type": "code",
   "execution_count": 15,
   "metadata": {},
   "outputs": [
    {
     "name": "stdout",
     "output_type": "stream",
     "text": [
      "Epoch 1/10\n",
      "1875/1875 [==============================] - 3s 1ms/step - loss: 0.7449 - accuracy: 0.7596 - val_loss: 0.2417 - val_accuracy: 0.9336\n",
      "Epoch 2/10\n",
      "1875/1875 [==============================] - 2s 1ms/step - loss: 0.3653 - accuracy: 0.9054 - val_loss: 0.1922 - val_accuracy: 0.9467\n",
      "Epoch 3/10\n",
      "1875/1875 [==============================] - 2s 1ms/step - loss: 0.3083 - accuracy: 0.9194 - val_loss: 0.1609 - val_accuracy: 0.9565\n",
      "Epoch 4/10\n",
      "1875/1875 [==============================] - 2s 1ms/step - loss: 0.2764 - accuracy: 0.9289 - val_loss: 0.1439 - val_accuracy: 0.9602\n",
      "Epoch 5/10\n",
      "1875/1875 [==============================] - 2s 1ms/step - loss: 0.2620 - accuracy: 0.9312 - val_loss: 0.1443 - val_accuracy: 0.9608\n",
      "Epoch 6/10\n",
      "1875/1875 [==============================] - 2s 1ms/step - loss: 0.2417 - accuracy: 0.9359 - val_loss: 0.1397 - val_accuracy: 0.9625\n",
      "Epoch 7/10\n",
      "1875/1875 [==============================] - 2s 1ms/step - loss: 0.2286 - accuracy: 0.9400 - val_loss: 0.1286 - val_accuracy: 0.9671\n",
      "Epoch 8/10\n",
      "1875/1875 [==============================] - 2s 1ms/step - loss: 0.2206 - accuracy: 0.9429 - val_loss: 0.1227 - val_accuracy: 0.9668\n",
      "Epoch 9/10\n",
      "1875/1875 [==============================] - 2s 1ms/step - loss: 0.2103 - accuracy: 0.9443 - val_loss: 0.1144 - val_accuracy: 0.9684\n",
      "Epoch 10/10\n",
      "1875/1875 [==============================] - 3s 1ms/step - loss: 0.2064 - accuracy: 0.9447 - val_loss: 0.1129 - val_accuracy: 0.9696\n"
     ]
    },
    {
     "data": {
      "text/plain": [
       "\"\\nmodel = keras.models.Sequential( [\\n    keras.layers.Flatten(input_shape = (28, 28)),\\n    keras.layers.Dropout(0.2),\\n    keras.layers.Dense(256, activation= 'relu'),\\n    keras.layers.Dropout(0.2),\\n    keras.layers.Dense(10, activation= 'softmax'),\\n])\\n# 이전 모델과 동일한 하이퍼파라미터로 컴파일하고 피팅함\\nmodel.compile(optimizer='adam', loss='sparse_categorical_crossentropy', metrics=['accuracy'])\\nmodel.fit(x_train, y_train, epochs = 10)\\n\""
      ]
     },
     "execution_count": 15,
     "metadata": {},
     "output_type": "execute_result"
    }
   ],
   "source": [
    "import tensorflow as tf\n",
    "from tensorflow import keras\n",
    "import numpy as np\n",
    "import matplotlib.pyplot as plt\n",
    "\n",
    "mnist =tf.keras.datasets.mnist \n",
    "\n",
    "(x_train, y_train), (x_test, y_test) = mnist.load_data()\n",
    "\n",
    "x_train, x_test = x_train / 255, x_test / 255  # 입력값 정규화\n",
    "\n",
    "# 드롭아웃 계층을 가진 신경망 모델 만들기\n",
    "model = keras.models.Sequential( [\n",
    "    keras.layers.Flatten(input_shape = (28, 28)),\n",
    "    keras.layers.Dropout(0.2),\n",
    "    keras.layers.Dense(64, activation = 'relu'),\n",
    "    keras.layers.Dropout(0.2),\n",
    "    keras.layers.Dense(64, activation = 'relu'),\n",
    "    keras.layers.Dropout(0.2),\n",
    "    keras.layers.Dense(64, activation = 'relu'),\n",
    "    keras.layers.Dropout(0.2),\n",
    "    keras.layers.Dense(64, activation = 'relu'),\n",
    "    keras.layers.Dropout(0.2),\n",
    "    keras.layers.Dense(64, activation = 'relu'),\n",
    "    keras.layers.Dropout(0.2),\n",
    "    keras.layers.Dense(64, activation = 'relu'),\n",
    "    keras.layers.Dropout(0.2),\n",
    "    keras.layers.Dense(10, activation = 'softmax'),\n",
    "])\n",
    "model.compile(optimizer='adam', loss='sparse_categorical_crossentropy', metrics=['accuracy'])\n",
    "history = model.fit(x_train, y_train, epochs = 10, validation_data = (x_test, y_test))\n",
    "'''\n",
    "model = keras.models.Sequential( [\n",
    "    keras.layers.Flatten(input_shape = (28, 28)),\n",
    "    keras.layers.Dropout(0.2),\n",
    "    keras.layers.Dense(256, activation= 'relu'),\n",
    "    keras.layers.Dropout(0.2),\n",
    "    keras.layers.Dense(10, activation= 'softmax'),\n",
    "])\n",
    "# 이전 모델과 동일한 하이퍼파라미터로 컴파일하고 피팅함\n",
    "model.compile(optimizer='adam', loss='sparse_categorical_crossentropy', metrics=['accuracy'])\n",
    "model.fit(x_train, y_train, epochs = 10)\n",
    "'''\n"
   ]
  },
  {
   "cell_type": "code",
   "execution_count": 16,
   "metadata": {},
   "outputs": [
    {
     "name": "stdout",
     "output_type": "stream",
     "text": [
      "드롭아웃 노드를 가진 다층 신경망 모델의 학습 결과 :\n",
      "313/313 [==============================] - 0s 722us/step - loss: 0.1129 - accuracy: 0.9696\n",
      "[0.11286316066980362, 0.9696000218391418]\n"
     ]
    },
    {
     "data": {
      "text/plain": [
       "<AxesSubplot:>"
      ]
     },
     "execution_count": 16,
     "metadata": {},
     "output_type": "execute_result"
    },
    {
     "data": {
      "image/png": "[encoded data removed]",
      "text/plain": [
       "<Figure size 360x216 with 1 Axes>"
      ]
     },
     "metadata": {
      "needs_background": "light"
     },
     "output_type": "display_data"
    }
   ],
   "source": [
    "print('드롭아웃 노드를 가진 다층 신경망 모델의 학습 결과 :')\n",
    "print(model.evaluate(x_test, y_test))\n",
    "\n",
    "import pandas as pd\n",
    "pd.DataFrame(history.history).plot(figsize = (5, 3))"
   ]
  },
  {
   "cell_type": "markdown",
   "metadata": {},
   "source": [
    "### LAB 8-1: Fashion-MNIST 데이터 분류하기"
   ]
  },
  {
   "cell_type": "markdown",
   "metadata": {},
   "source": [
    "✔실습 목표\n",
    "\n",
    "\n",
    " fashion MNIST 데이터를 이용하여 다음과 같은 신경망을 생선하고, 학습시킨 다음 정확도를 구해보자.\n",
    " 1. 각각 128개의 32개의 노드를 가진 두개의 은닉층\n",
    " 2. 입력층에서 128개노드의 은닉층으로 가는 연결은 20%의 드롭 아웃을 이용\n",
    " 3. 10개의 출력 노드 각각은 10개의 클래스에 해당"
   ]
  },
  {
   "cell_type": "code",
   "execution_count": 17,
   "metadata": {},
   "outputs": [],
   "source": [
    "# 1. 텐서플로우와 넘파이, 맷플롯립을 임포트하여 프로그램을 작성할 준비를 한다.\n",
    "# tensorflow와 tf.keras를 임포트한다\n",
    "import tensorflow as tf\n",
    "from tensorflow import keras\n",
    "import numpy as np\n",
    "import matplotlib.pyplot as plt"
   ]
  },
  {
   "cell_type": "code",
   "execution_count": 18,
   "metadata": {},
   "outputs": [
    {
     "name": "stdout",
     "output_type": "stream",
     "text": [
      "Downloading data from https://storage.googleapis.com/tensorflow/tf-keras-datasets/train-labels-idx1-ubyte.gz\n",
      "32768/29515 [=================================] - 0s 0us/step\n",
      "40960/29515 [=========================================] - 0s 0us/step\n",
      "Downloading data from https://storage.googleapis.com/tensorflow/tf-keras-datasets/train-images-idx3-ubyte.gz\n",
      "26427392/26421880 [==============================] - 2s 0us/step\n",
      "26435584/26421880 [==============================] - 2s 0us/step\n",
      "Downloading data from https://storage.googleapis.com/tensorflow/tf-keras-datasets/t10k-labels-idx1-ubyte.gz\n",
      "16384/5148 [===============================================================================================] - 0s 0s/step\n",
      "Downloading data from https://storage.googleapis.com/tensorflow/tf-keras-datasets/t10k-images-idx3-ubyte.gz\n",
      "4423680/4422102 [==============================] - 0s 0us/step\n",
      "4431872/4422102 [==============================] - 0s 0us/step\n"
     ]
    }
   ],
   "source": [
    "# 2. 케라스 API가 제공하는 패션 MNIST를 읽어온다.\n",
    "# 패션 MNIST 데이터는 keras의 데이터셋에 있으며, 이를 학습용, 테스트 데이터로 구분하자\n",
    "fashion_mnist = keras.datasets.fashion_mnist\n",
    "(train_images, train_labels), (test_images, test_labels) = fashion_mnist.load_data()"
   ]
  },
  {
   "cell_type": "code",
   "execution_count": 19,
   "metadata": {},
   "outputs": [
    {
     "name": "stdout",
     "output_type": "stream",
     "text": [
      "(60000, 28, 28)\n",
      "[9 0 0 ... 3 0 5]\n",
      "(10000, 28, 28)\n"
     ]
    }
   ],
   "source": [
    "# 3. 데이터읽기가 끝나면 훈련데이터와 정답 레이블, 테스트 데이터의 모양을 살펴보자. \n",
    "print(train_images.shape)  # 학습 이미지의 형태와 레이블을 출력한다\n",
    "print(train_labels)\n",
    "print(test_images.shape)"
   ]
  },
  {
   "cell_type": "code",
   "execution_count": 20,
   "metadata": {},
   "outputs": [
    {
     "data": {
      "image/png": "[encoded data removed]",
      "text/plain": [
       "<Figure size 432x288 with 3 Axes>"
      ]
     },
     "metadata": {
      "needs_background": "light"
     },
     "output_type": "display_data"
    }
   ],
   "source": [
    "# 4. 어떤 이미지들인지 확인하기 위해 맷플롯립을 이용하여 처음 3개의 훈련데이터를 그려본다.\n",
    "fig = plt.figure()\n",
    "ax1 = fig.add_subplot(1, 3, 1)\n",
    "ax2 = fig.add_subplot(1, 3, 2)\n",
    "ax3 = fig.add_subplot(1, 3, 3)\n",
    "\n",
    "ax1.imshow(train_images[0])       # 첫 번째 훈련용 데이터\n",
    "ax2.imshow(train_images[1])       # 두 번째 훈련용 데이터\n",
    "ax3.imshow(train_images[2])       # 세 번째 훈련용 데이터\n",
    "plt.show()"
   ]
  },
  {
   "cell_type": "code",
   "execution_count": 21,
   "metadata": {},
   "outputs": [
    {
     "name": "stdout",
     "output_type": "stream",
     "text": [
      "[9 0 0]\n"
     ]
    }
   ],
   "source": [
    "print(train_labels[:3])"
   ]
  },
  {
   "cell_type": "code",
   "execution_count": 22,
   "metadata": {},
   "outputs": [],
   "source": [
    "# 0-255 구간의 픽셀을 정규화 한다.\n",
    "train_imeges, test_image = train_images / 255, test_images / 255\n",
    "# 순차 심층 신경망 모델을 만들자 \n",
    "model = keras.models.Sequential( [\n",
    "   keras.layers.Flatten(input_shape=(28, 28)),\n",
    "   keras.layers.Dropout(0.2),\n",
    "   keras.layers.Dense(128, activation= 'relu'),\n",
    "   keras.layers.Dense(32, activation= 'relu'),\n",
    "   keras.layers.Dense(10, activation= 'softmax'),\n",
    "])"
   ]
  },
  {
   "cell_type": "code",
   "execution_count": 25,
   "metadata": {},
   "outputs": [
    {
     "name": "stdout",
     "output_type": "stream",
     "text": [
      "Epoch 1/10\n",
      "704/704 [==============================] - 1s 2ms/step - loss: 0.5568 - accuracy: 0.7945 - val_loss: 0.5303 - val_accuracy: 0.8125\n",
      "Epoch 2/10\n",
      "704/704 [==============================] - 1s 1ms/step - loss: 0.5253 - accuracy: 0.8151 - val_loss: 0.5085 - val_accuracy: 0.8237\n",
      "Epoch 3/10\n",
      "704/704 [==============================] - 1s 1ms/step - loss: 0.4997 - accuracy: 0.8266 - val_loss: 0.4976 - val_accuracy: 0.8382\n",
      "Epoch 4/10\n",
      "704/704 [==============================] - 1s 2ms/step - loss: 0.4718 - accuracy: 0.8394 - val_loss: 0.4594 - val_accuracy: 0.8471\n",
      "Epoch 5/10\n",
      "704/704 [==============================] - 1s 2ms/step - loss: 0.4522 - accuracy: 0.8448 - val_loss: 0.4716 - val_accuracy: 0.8414\n",
      "Epoch 6/10\n",
      "704/704 [==============================] - 1s 1ms/step - loss: 0.4386 - accuracy: 0.8476 - val_loss: 0.4528 - val_accuracy: 0.8477\n",
      "Epoch 7/10\n",
      "704/704 [==============================] - 1s 1ms/step - loss: 0.4301 - accuracy: 0.8530 - val_loss: 0.4337 - val_accuracy: 0.8550\n",
      "Epoch 8/10\n",
      "704/704 [==============================] - 1s 1ms/step - loss: 0.4200 - accuracy: 0.8539 - val_loss: 0.4688 - val_accuracy: 0.8511\n",
      "Epoch 9/10\n",
      "704/704 [==============================] - 1s 1ms/step - loss: 0.4113 - accuracy: 0.8559 - val_loss: 0.4236 - val_accuracy: 0.8577\n",
      "Epoch 10/10\n",
      "704/704 [==============================] - ETA: 0s - loss: 0.4046 - accuracy: 0.85 - 1s 2ms/step - loss: 0.4035 - accuracy: 0.8592 - val_loss: 0.4407 - val_accuracy: 0.8498\n"
     ]
    }
   ],
   "source": [
    "model.compile(optimizer='adam', loss='sparse_categorical_crossentropy', metrics=['accuracy'])\n",
    "\n",
    "history = model.fit(train_images, train_labels, batch_size=64, epochs=10, validation_split=0.25)"
   ]
  },
  {
   "cell_type": "code",
   "execution_count": 24,
   "metadata": {},
   "outputs": [
    {
     "data": {
      "text/plain": [
       "[<matplotlib.lines.Line2D at 0x2a352d310a0>]"
      ]
     },
     "execution_count": 24,
     "metadata": {},
     "output_type": "execute_result"
    },
    {
     "data": {
      "image/png": "[encoded data removed]",
      "text/plain": [
       "<Figure size 432x288 with 1 Axes>"
      ]
     },
     "metadata": {
      "needs_background": "light"
     },
     "output_type": "display_data"
    }
   ],
   "source": [
    "plt.plot(history.history['loss'], 'b-')\n",
    "plt.plot(history.history['val_loss'], 'r--')"
   ]
  },
  {
   "cell_type": "code",
   "execution_count": 26,
   "metadata": {},
   "outputs": [
    {
     "data": {
      "text/plain": [
       "[<matplotlib.lines.Line2D at 0x2a355bc5190>]"
      ]
     },
     "execution_count": 26,
     "metadata": {},
     "output_type": "execute_result"
    },
    {
     "data": {
      "image/png": "[encoded data removed]",
      "text/plain": [
       "<Figure size 432x288 with 1 Axes>"
      ]
     },
     "metadata": {
      "needs_background": "light"
     },
     "output_type": "display_data"
    }
   ],
   "source": [
    "plt.plot(history.history['accuracy'], 'b-')\n",
    "plt.plot(history.history['val_accuracy'], 'r--')"
   ]
  },
  {
   "cell_type": "code",
   "execution_count": 27,
   "metadata": {},
   "outputs": [
    {
     "name": "stdout",
     "output_type": "stream",
     "text": [
      "313/313 - 0s - loss: 0.4601 - accuracy: 0.8463 - 199ms/epoch - 635us/step\n",
      "테스트 정확도: 0.8463000059127808\n"
     ]
    }
   ],
   "source": [
    "test_loss, test_acc = model.evaluate(test_images,  test_labels, verbose=2)\n",
    "print('테스트 정확도:', test_acc)"
   ]
  },
  {
   "cell_type": "code",
   "execution_count": 28,
   "metadata": {},
   "outputs": [
    {
     "data": {
      "text/plain": [
       "<matplotlib.image.AxesImage at 0x2a3563da310>"
      ]
     },
     "execution_count": 28,
     "metadata": {},
     "output_type": "execute_result"
    },
    {
     "data": {
      "image/png": "[encoded data removed]",
      "text/plain": [
       "<Figure size 432x288 with 1 Axes>"
      ]
     },
     "metadata": {
      "needs_background": "light"
     },
     "output_type": "display_data"
    }
   ],
   "source": [
    "randIdx = np.random.randint(0, 1000)\n",
    "plt.imshow(test_images[randIdx])"
   ]
  },
  {
   "cell_type": "code",
   "execution_count": 29,
   "metadata": {},
   "outputs": [
    {
     "name": "stdout",
     "output_type": "stream",
     "text": [
      "(28, 28)\n",
      "(1, 28, 28)\n",
      "[[0.919 0.    0.    0.007 0.    0.    0.074 0.    0.    0.   ]]\n"
     ]
    }
   ],
   "source": [
    "print(test_images[randIdx].shape)\n",
    "new_image = test_images[randIdx][np.newaxis, :, :]\n",
    "print(new_image.shape)\n",
    "\n",
    "yhat = model.predict(new_image)\n",
    "print(yhat.round(3))    # 소수점 아래 세 자리 정확도로 살펴보자"
   ]
  },
  {
   "cell_type": "code",
   "execution_count": 30,
   "metadata": {},
   "outputs": [
    {
     "data": {
      "text/plain": [
       "0"
      ]
     },
     "execution_count": 30,
     "metadata": {},
     "output_type": "execute_result"
    }
   ],
   "source": [
    "yhat = np.argmax( model.predict( test_images[randIdx][np.newaxis, :, :]) )\n",
    "yhat"
   ]
  },
  {
   "cell_type": "code",
   "execution_count": 31,
   "metadata": {},
   "outputs": [],
   "source": [
    "class_names = ['T-shirt/top', 'Trouser', 'Pullover', 'Dress', 'Coat',\n",
    "              'Sandal', 'Shirt', 'Sneaker', 'Bag', 'Ankle boot']"
   ]
  },
  {
   "cell_type": "code",
   "execution_count": 32,
   "metadata": {},
   "outputs": [
    {
     "name": "stdout",
     "output_type": "stream",
     "text": [
      "T-shirt/top\n"
     ]
    }
   ],
   "source": [
    "print(class_names[yhat])"
   ]
  },
  {
   "cell_type": "code",
   "execution_count": 34,
   "metadata": {},
   "outputs": [
    {
     "name": "stdout",
     "output_type": "stream",
     "text": [
      "[9 2 1 1 6 1 4 6 5 7 4 5 7 3 4 1 2 2 8 0 2 7 7 5 1]\n"
     ]
    },
    {
     "data": {
      "image/png": "[encoded data removed]",
      "text/plain": [
       "<Figure size 720x720 with 25 Axes>"
      ]
     },
     "metadata": {
      "needs_background": "light"
     },
     "output_type": "display_data"
    }
   ],
   "source": [
    "def plot_images(images, labels, images_per_row=5):\n",
    "  n_images = len(images)\n",
    "  n_rows = (n_images-1) // images_per_row + 1\n",
    "  fig, ax = plt.subplots(n_rows, images_per_row, \n",
    "                         figsize = (images_per_row * 2, n_rows * 2))\n",
    "  for i in range(n_rows):\n",
    "      for j in range(images_per_row):\n",
    "          if i*images_per_row + j >= n_images: break\n",
    "          img_idx = i*images_per_row + j\n",
    "          a_image = images[img_idx].reshape(28,28)\n",
    "          if n_rows>1: axis = ax[i, j]\n",
    "          else: axis = ax[j]\n",
    "          axis.get_xaxis().set_visible(False)\n",
    "          axis.get_yaxis().set_visible(False)\n",
    "          label = class_names[labels[img_idx]]\n",
    "          axis.set_title(label)\n",
    "          axis.imshow(a_image, interpolation='nearest')\n",
    "\n",
    "images = test_images[:25]\n",
    "predictions = np.argmax(model.predict(images), axis=1)\n",
    "print(predictions)\n",
    "plot_images(images, predictions, images_per_row = 5)"
   ]
  },
  {
   "cell_type": "markdown",
   "metadata": {},
   "source": [
    "👀정리\n",
    "\n",
    "✔ReLU 함수를 활성화 함수로 사용하는 방식으로 개선 : 사라지는 기울기 문제 개선 / 계산 효율 개선\n",
    "✔ 경사 하강법 : 손실함수의 기울기를 따라 파라미터를 수정하는 방식을 사용하며 이 파라미터의 수정이 곧 학습의 과정이다.\n",
    "✔ 일반적으로 심층 신경망의 네트워크와 초기화 함수, 경사하강법, 활성화 함수를 직접 구현하여 적용하기보다는 텐서플로우, 파이토치, mxnet, NLTK 등의 머신러닝 프레임 워크를 활용하는 것이 더 편리하다.\n",
    "\n",
    "\n",
    "\n",
    "✔ 에폭(epoch): 하나의 단위. 1에폭은 학습에서 훈련 데이터를 모두 소진했을 때의 횟수에 해당함.\n",
    "\n",
    "\n",
    "✔ 미니 배치(mini batch): 전체 데이터 셋을 몇 개의 데이터 셋으로 나누었을 때, 그 작은 데이터 셋 뭉치\n",
    "\n",
    "\n",
    "✔ 배치 사이즈(batch size): 하나의 미니 배치에 넘겨주는 데이터 갯수, 즉 한번의 배치마다 주는 샘플의 size\n",
    "\n",
    "\n",
    "✔ 이터레이션(iteration): 하나의 미니 배치를 학습할 때 1iteration이라고 한다. 즉, 미니 배치 갯수 = 이터레이션 수\n",
    "\n",
    "\n",
    "✔ 신경망의 예측값과 실제값과의 차이를 구하는 방법 :\n",
    " 평균적으로 평균절대값오차, 평균 제곱 오차, 교차 엔트로피 오차 등 여러가지 방법이 있다.\n",
    " \n",
    "\n",
    "✔ 신경망을 최적화 하는 방법 :\n",
    "확률적 경사 하강법, 미니배치 경사 하강법, 배치 정규화, 드롭 아웃 기법 등이 있다."
   ]
  }
 ],
 "metadata": {
  "interpreter": {
   "hash": "3cdcb9daa5a03e1722fcc0d4a4ce3ae98b7da86b84924a344b8688728b50fac5"
  },
  "kernelspec": {
   "display_name": "Python 3.9.7 64-bit ('base': conda)",
   "language": "python",
   "name": "python3"
  },
  "language_info": {
   "codemirror_mode": {
    "name": "ipython",
    "version": 3
   },
   "file_extension": ".py",
   "mimetype": "text/x-python",
   "name": "python",
   "nbconvert_exporter": "python",
   "pygments_lexer": "ipython3",
   "version": "3.9.7"
  },
  "orig_nbformat": 4
 },
 "nbformat": 4,
 "nbformat_minor": 2
}
